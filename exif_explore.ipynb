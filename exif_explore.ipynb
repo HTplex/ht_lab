{
 "cells": [
  {
   "cell_type": "code",
   "execution_count": 39,
   "id": "db96bce4-ddac-4768-8cae-c16833fdae51",
   "metadata": {},
   "outputs": [],
   "source": [
    "import exif \n",
    "from PIL import Image\n",
    "def visualize_image(img):\n",
    "    \"\"\"\n",
    "    Visualize image\n",
    "    \"\"\"\n",
    "    img = img.astype(np.uint8)\n",
    "    img = cv2.cvtColor(img, cv2.COLOR_BGR2RGB)\n",
    "    img = Image.fromarray(img)\n",
    "    img.show()\n",
    "    \n",
    "\n",
    "def get_real_fl_fn(h,w,raw_exif):\n",
    "    orig_resolution_index = {\"SONY: ILCE-1\":[(8640,5760)],\n",
    "                             \"LEICA CAMERA AG: LEICA Q2\": [(8368,5584)],\n",
    "                             \"RICOH IMAGING COMPANY, LTD.: RICOH GR IIIx\":[(6000,4000)],\n",
    "                             \"RICOH IMAGING COMPANY, LTD.: RICOH GR III\":[(6000,4000)],\n",
    "                             \"Apple: iPhone 14 Pro Max\":[(8064,6048),(4032,3024)],\n",
    "                             \"Apple: iPhone 14 Pro\":[(8064,6048),(4032,3024)],\n",
    "                             \"Apple: iPhone 13 Pro\":[(4032,3024)],\n",
    "                             \"Panasonic: DMC-ZS110\":[(5472,3648)],\n",
    "                             \"Canon: Canon EOS R5\":[(8192,5464)]\n",
    "\n",
    "                            } # w,h\n",
    "    if 'make' not in raw_exif:\n",
    "        return\n",
    "    camera_model = raw_exif['make']+\": \"+raw_exif[\"model\"]\n",
    "    if camera_model not in orig_resolution_index:\n",
    "        raise ValueError(\"unknown camera model: [{}]\".format(camera_model))\n",
    "    long_edge_crop_ratio = max(h,w)/max(orig_resolution_index[camera_model][0])\n",
    "    # iPhone special processing\n",
    "    if long_edge_crop_ratio<0.5 and camera_model == \"Apple: iPhone 14 Pro Max\":\n",
    "        long_edge_crop_ratio = max(h,w)/max(orig_resolution_index[camera_model][1])\n",
    "        \n",
    "    # calc real eq focal len\n",
    "    # pprint(raw_exif)\n",
    "    # ff camera use true fl\n",
    "    if camera_model in [\"LEICA CAMERA AG: LEICA Q2\",\"SONY: ILCE-1\",\"Canon: Canon EOS R5\"]:\n",
    "        uncropped_fl = raw_exif[\"focal_length\"]\n",
    "    else:\n",
    "        uncropped_fl = raw_exif[\"focal_length_in_35mm_film\"]\n",
    "    \n",
    "\n",
    "    \n",
    "    real_fl = uncropped_fl/long_edge_crop_ratio\n",
    "    long_edge_fn_ratio = real_fl/raw_exif[\"focal_length\"]\n",
    "    real_fn = raw_exif['f_number']*long_edge_fn_ratio\n",
    "\n",
    "    # sony apsc lens\n",
    "    if 'lens_model' not in raw_exif:\n",
    "        raw_exif['lens_model'] = camera_model\n",
    "    return {\"camera\": camera_model,\n",
    "            \"lens\":raw_exif['lens_model'],\n",
    "            \"orig_fl\":uncropped_fl,\n",
    "            \"real_fl\":real_fl,\n",
    "            \"orig_fn\": raw_exif['f_number'],\n",
    "            \"real_fn\": real_fn,\n",
    "            \"long_edge_crop_ratio\":long_edge_crop_ratio,\n",
    "            \"long_edge_fn_ratio\":long_edge_fn_ratio,\n",
    "            \"exposure\":raw_exif['exposure_time']\n",
    "           }\n",
    "\n",
    "\n",
    "    \n",
    "\n",
    "    \n",
    "    "
   ]
  },
  {
   "cell_type": "code",
   "execution_count": 40,
   "id": "4c9bcd6d-beb3-403d-8d06-0cd4e4dc58b1",
   "metadata": {},
   "outputs": [
    {
     "name": "stderr",
     "output_type": "stream",
     "text": [
      "100%|██████████████████████████████████████| 186/186 [00:00<00:00, 63956.43it/s]\n"
     ]
    }
   ],
   "source": [
    "# TODO\n",
    "# Enhanced\n",
    "from glob import glob \n",
    "from os.path import join\n",
    "from pprint import pprint\n",
    "import cv2\n",
    "from tqdm import tqdm\n",
    "from os.path import basename, expanduser, exists\n",
    "import os\n",
    "import datetime as dt\n",
    "import json\n",
    "\n",
    "img_path = '/Users/htplex/Desktop/2022-3s-processed/thumbnails/'\n",
    "exif_path = '/Users/htplex/Desktop/2022-3s-processed/all_raw_exif.json'\n",
    "\n",
    "# img_path = '/Users/htplex/Desktop/123s/thumbnails/'\n",
    "# exif_path = '/Users/htplex/Desktop/123s/all_raw_exif.json'\n",
    "\n",
    "img_path = '/Users/htplex/Desktop/ql_12345/thumbnails/'\n",
    "exif_path = '/Users/htplex/Desktop/ql_12345/all_raw_exif.json'\n",
    "\n",
    "all_exif = []\n",
    "with open(exif_path, 'r') as fp:\n",
    "    all_exif = json.load(fp)\n",
    "\n",
    "# calc better exif & save to local\n",
    "all_better_exif = []\n",
    "for raw_exif in tqdm(all_exif.values()):\n",
    "    # load exif and h,w, use precalc if using betterexif folder instead of original\n",
    "    h,w = raw_exif['orig_size']\n",
    "    img_fname = raw_exif['filename']\n",
    "    # init better exif\n",
    "    # step1: real_eq\n",
    "    better_exif = get_real_fl_fn(h,w,raw_exif)\n",
    "    if not better_exif:\n",
    "        continue\n",
    "    # add filename\n",
    "    better_exif['filename'] = img_fname\n",
    "    better_exif['orig_size'] = (h,w)\n",
    "    better_exif[\"capture_time\"] = raw_exif[\"datetime_original\"]\n",
    "    capture_date = dt.datetime.strptime(raw_exif[\"datetime_original\"],\n",
    "                                                      '%Y:%m:%d %H:%M:%S').date()\n",
    "    better_exif[\"date_number\"] = (capture_date-dt.date(2022,1,1)).days\n",
    "    capture_time = dt.datetime.strptime(raw_exif[\"datetime_original\"],\n",
    "                                                  '%Y:%m:%d %H:%M:%S').time()\n",
    "    better_exif[\"time_number\"] = (3600*capture_time.hour+60*capture_time.minute+capture_time.second)/3600\n",
    "    \n",
    "    all_better_exif.append(better_exif)\n",
    "    # print(better_exif)\n",
    "    # print(capture_date)\n",
    "    # if better_exif['orig_fl'] < 24:\n",
    "    #     print(img_fname)\n",
    "    \n",
    "\n",
    "    # break\n",
    "        \n",
    "        "
   ]
  },
  {
   "cell_type": "code",
   "execution_count": 41,
   "id": "8bd2802b-2abc-447f-9888-c81fe50edcb3",
   "metadata": {},
   "outputs": [
    {
     "name": "stdout",
     "output_type": "stream",
     "text": [
      "{'camera': 'Canon: Canon EOS R5',\n",
      " 'capture_time': '2022:05:11 18:35:11',\n",
      " 'date_number': 130,\n",
      " 'exposure': 0.02,\n",
      " 'filename': '168A0220.jpg',\n",
      " 'lens': 'RF24-105mm F4 L IS USM',\n",
      " 'long_edge_crop_ratio': 1.0,\n",
      " 'long_edge_fn_ratio': 1.0,\n",
      " 'orig_fl': 105.0,\n",
      " 'orig_fn': 4.0,\n",
      " 'orig_size': (4726, 8192),\n",
      " 'real_fl': 105.0,\n",
      " 'real_fn': 4.0,\n",
      " 'time_number': 18.586388888888887}\n",
      "\n"
     ]
    },
    {
     "data": {
      "image/png": "[encoded data removed]",
      "text/plain": [
       "<Figure size 504x504 with 1 Axes>"
      ]
     },
     "metadata": {},
     "output_type": "display_data"
    },
    {
     "data": {
      "text/plain": [
       "<Figure size 432x288 with 0 Axes>"
      ]
     },
     "metadata": {},
     "output_type": "display_data"
    },
    {
     "data": {
      "image/png": "[encoded data removed]",
      "text/plain": [
       "<Figure size 720x720 with 1 Axes>"
      ]
     },
     "metadata": {},
     "output_type": "display_data"
    },
    {
     "data": {
      "text/plain": [
       "<Figure size 432x288 with 0 Axes>"
      ]
     },
     "metadata": {},
     "output_type": "display_data"
    },
    {
     "data": {
      "image/png": "[encoded data removed]",
      "text/plain": [
       "<Figure size 360x360 with 1 Axes>"
      ]
     },
     "metadata": {},
     "output_type": "display_data"
    },
    {
     "name": "stdout",
     "output_type": "stream",
     "text": [
      "12-23: 1.61%, 3/186\n",
      "14-35: 13.44%, 25/186\n",
      "16-35: 12.37%, 23/186\n",
      "24-70: 39.78%, 74/186\n",
      "24-105: 59.14%, 110/186\n",
      "28-75: 37.1%, 69/186\n",
      "35-150: 61.83%, 115/186\n",
      "70-200: 38.71%, 72/186\n",
      "100-400: 33.87%, 63/186\n",
      "100-500: 39.78%, 74/186\n",
      "200-600: 18.82%, 35/186\n"
     ]
    },
    {
     "data": {
      "text/plain": [
       "<Figure size 432x288 with 0 Axes>"
      ]
     },
     "metadata": {},
     "output_type": "display_data"
    }
   ],
   "source": [
    "# data play around\n",
    "import numpy as np\n",
    "import matplotlib.pyplot as plt\n",
    "import seaborn as sns\n",
    "import pandas as pd\n",
    "import matplotlib.colors as mcolors\n",
    "pprint(all_better_exif[0])\n",
    "print()\n",
    "all_better_exif_df = pd.DataFrame(all_better_exif)\n",
    "n_imgs = len(all_better_exif_df)\n",
    "\n",
    "\n",
    "# focal length\n",
    "middle_fl_df = all_better_exif_df[all_better_exif_df['real_fl'].between(0, 2000)]\n",
    "\n",
    "sns.set_theme(style=\"darkgrid\")\n",
    "# sns.set_theme(style=\"whitegrid\")\n",
    "\n",
    "sns.displot(middle_fl_df,x=\"orig_fn\",log_scale=False,bins=40,height=7)#,hue=\"lens\")\n",
    "# sns.displot(middle_fl_df,x=\"orig_fn\",discrete=True)\n",
    "# sns.displot(middle_fl_df,x=\"real_fl\")#,hue=\"lens\")\n",
    "plt.show()\n",
    "plt.clf()\n",
    "\n",
    "\n",
    "\n",
    "# lens by time\n",
    "# replace rare ones to others\n",
    "fig,ax = plt.subplots(figsize=(10, 10))\n",
    "lens_df = all_better_exif_df\n",
    "lens_df.loc[lens_df['lens'].value_counts()[lens_df['lens']].values < 3, 'lens'] = \"others\"\n",
    "sns.histplot(data=lens_df, x=\"time_number\",palette=\"colorblind\", hue=\"lens\", multiple=\"stack\",ax=ax)\n",
    "sns.move_legend(ax, \"upper left\", bbox_to_anchor=(1, 1))\n",
    "\n",
    "plt.show()\n",
    "plt.clf()\n",
    "\n",
    "\n",
    "# cropping ratio\n",
    "sns.displot(middle_fl_df,kind='kde',x=\"long_edge_crop_ratio\",log_scale=True,)#,hue=\"lens\")\n",
    "\n",
    "plt.show()\n",
    "plt.clf()\n",
    "\n",
    "lenses = [[12,23],[14,35],[16,35],[24,70],[24,105],[28,75],[35,150],[70,200],[100,400],[100,500],[200,600]]\n",
    "max_crop_factor = 1.0\n",
    "for lens in lenses:\n",
    "    n_lens_covered_imgs = len(all_better_exif_df[all_better_exif_df['real_fl'].between(lens[0], lens[1]*max_crop_factor)])\n",
    "    print(\"{}-{}: {}%, {}/{}\".format(lens[0],lens[1],\n",
    "                                np.around(n_lens_covered_imgs/n_imgs*100,2),\n",
    "                                n_lens_covered_imgs,n_imgs))\n",
    "\n",
    "\n"
   ]
  },
  {
   "cell_type": "code",
   "execution_count": 44,
   "id": "d3e5bd3c-1431-438e-ac20-eb3a0e56ffc2",
   "metadata": {},
   "outputs": [
    {
     "name": "stderr",
     "output_type": "stream",
     "text": [
      "  0%|                                                   | 0/154 [00:00<?, ?it/s]"
     ]
    },
    {
     "name": "stdout",
     "output_type": "stream",
     "text": [
      "(171, 253, 3)\n",
      "(57, 85, 3)\n",
      "(19, 29, 3)\n"
     ]
    },
    {
     "name": "stderr",
     "output_type": "stream",
     "text": [
      "\n"
     ]
    }
   ],
   "source": [
    "# cv play around\n",
    "import numpy as np\n",
    "import cv2\n",
    "from os.path import join\n",
    "from tqdm import tqdm\n",
    "import skimage.measure\n",
    "def smart_compress(img,h=512):\n",
    "    visualize_image(img)\n",
    "    # print(vert_line.shape)\n",
    "    \n",
    "    for i in range(3):\n",
    "        reduced_img = []\n",
    "        for c in range(3):\n",
    "            reduced_img.append([skimage.measure.block_reduce(img[:,:,c], (3,3), np.median)])\n",
    "        reduced_img = np.concatenate(reduced_img,axis=0)\n",
    "        reduced_img = reduced_img.transpose(1,2,0)\n",
    "        print(reduced_img.shape)\n",
    "        img = reduced_img\n",
    "        visualize_image(img)\n",
    "\n",
    "    \n",
    "    \n",
    "\n",
    "all_better_exif = sorted(all_better_exif,key=lambda x: x['capture_time'])\n",
    "folder_path = img_path\n",
    "\n",
    "for x_idx,better_exif in enumerate(tqdm(all_better_exif[32:])):\n",
    "    img = cv2.imread(join(folder_path,better_exif['filename']))\n",
    "    if len(img.shape)<3:\n",
    "        img = cv2.cvtColor(img, cv2.COLOR_GRAY2BGR)\n",
    "    smart_compress(img)\n",
    "    break\n",
    "\n",
    "\n",
    "    "
   ]
  },
  {
   "cell_type": "code",
   "execution_count": 36,
   "id": "ccbfc9c9-97b5-45b9-9b63-b8cc24315d21",
   "metadata": {},
   "outputs": [
    {
     "name": "stderr",
     "output_type": "stream",
     "text": [
      "100%|█████████████████████████████████████████| 717/717 [00:08<00:00, 81.63it/s]\n"
     ]
    }
   ],
   "source": [
    "# cv play around\n",
    "import numpy as np\n",
    "import cv2\n",
    "from os.path import join\n",
    "from tqdm import tqdm\n",
    "def get_img_y_color(img,h=512):\n",
    "    visualize_image(img)\n",
    "    h,w = img.shape[:2]\n",
    "    img = cv2.resize(img,(int(512/h*w),512))\n",
    "    \n",
    "    vert_line = np.mean(img,axis=1)\n",
    "    # print(vert_line.shape)\n",
    "    return vert_line\n",
    "    \n",
    "    \n",
    "\n",
    "all_better_exif = sorted(all_better_exif,key=lambda x: x['capture_time'])\n",
    "folder_path = img_path\n",
    "vert_line_canvas = np.zeros((512,len(all_better_exif),3))\n",
    "vert_lines = []\n",
    "for x_idx,better_exif in enumerate(tqdm(all_better_exif)):\n",
    "    img = cv2.imread(join(folder_path,better_exif['filename']))\n",
    "    if len(img.shape)<3:\n",
    "        img = cv2.cvtColor(img, cv2.COLOR_GRAY2BGR)\n",
    "    # vert_line_canvas[:,x_idx,:] = get_img_y_color(img)\n",
    "    vert_lines.append(get_img_y_color(img))\n",
    "vert_lines = sorted(vert_lines,key = lambda x: np.average(x))\n",
    "\n",
    "for x_idx,vert_line in enumerate(vert_lines):\n",
    "    vert_line_canvas[:,x_idx,:] = vert_line\n",
    "    \n",
    "    \n",
    "    # break\n",
    "# vert_line_canvas = cv2.resize(vert_line_canvas,(512,512))\n",
    "visualize_image(vert_line_canvas)\n",
    "# print(all_better_exif[0])\n",
    "    "
   ]
  },
  {
   "cell_type": "code",
   "execution_count": null,
   "id": "bc078167-5797-4b66-83c1-c7b845d242e3",
   "metadata": {},
   "outputs": [],
   "source": []
  },
  {
   "cell_type": "code",
   "execution_count": null,
   "id": "dda2e20f-ccb2-4b27-b1eb-27d50b13f8f3",
   "metadata": {},
   "outputs": [],
   "source": []
  },
  {
   "cell_type": "code",
   "execution_count": null,
   "id": "2705aedd-2c5e-46eb-ab1b-4cf776dff31a",
   "metadata": {},
   "outputs": [],
   "source": []
  },
  {
   "cell_type": "code",
   "execution_count": null,
   "id": "f905c7d5-cf2a-487a-a2ae-34e64b4d69c7",
   "metadata": {},
   "outputs": [],
   "source": []
  }
 ],
 "metadata": {
  "kernelspec": {
   "display_name": "Python 3 (ipykernel)",
   "language": "python",
   "name": "python3"
  },
  "language_info": {
   "codemirror_mode": {
    "name": "ipython",
    "version": 3
   },
   "file_extension": ".py",
   "mimetype": "text/x-python",
   "name": "python",
   "nbconvert_exporter": "python",
   "pygments_lexer": "ipython3",
   "version": "3.9.7"
  }
 },
 "nbformat": 4,
 "nbformat_minor": 5
}
