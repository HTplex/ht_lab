{
 "cells": [
  {
   "cell_type": "code",
   "execution_count": 80,
   "id": "92b8eebb-1bd8-405f-bc69-cf2972776aa6",
   "metadata": {},
   "outputs": [
    {
     "data": {
      "text/plain": [
       "'12'"
      ]
     },
     "execution_count": 80,
     "metadata": {},
     "output_type": "execute_result"
    }
   ],
   "source": [
    "\"1234\"[:2]"
   ]
  },
  {
   "cell_type": "code",
   "execution_count": 90,
   "id": "db96bce4-ddac-4768-8cae-c16833fdae51",
   "metadata": {},
   "outputs": [],
   "source": [
    "import exif \n",
    "\n",
    "def get_exif(path,selected_keys=None):\n",
    "    img_exif = None\n",
    "    exif_info = {}\n",
    "    with open(img_path, 'rb') as img_file:\n",
    "        img_exif = exif.Image(img_file)\n",
    "    if not selected_keys:\n",
    "        all_exif_keys = img_exif.list_all()\n",
    "    else:\n",
    "        all_exif_keys = selected_keys\n",
    "    for key in all_exif_keys:\n",
    "        exif_info[key] = img_exif.get(key)\n",
    "    return exif_info\n",
    "\n",
    "def get_real_eqvl_focal_len(h,w,exif_info):\n",
    "    orig_resolution_index = {\"SONY: ILCE-1\":[(8640,5760)],\n",
    "                             \"LEICA CAMERA AG: LEICA Q2\": [(8368,5584)],\n",
    "                             \"RICOH IMAGING COMPANY, LTD.: RICOH GR IIIx\":[(6000,4000)],\n",
    "                             \"Apple: iPhone 14 Pro Max\":[(8064,6048),(4032,3024)],\n",
    "                             \"Apple: iPhone 13 Pro\":[(4032,3024)],\n",
    "                             \"Panasonic: DMC-ZS110\":[(5472,3648)]\n",
    "\n",
    "                            } # w,h\n",
    "    camera_model = exif_info['make']+\": \"+exif_info[\"model\"]\n",
    "    if camera_model not in orig_resolution_index:\n",
    "        raise ValueError(\"unknown camera model: [{}]\".format(camera_model))\n",
    "    long_edge_crop_ratio = max(h,w)/max(orig_resolution_index[camera_model][0])\n",
    "    # iPhone special processing\n",
    "    if long_edge_crop_ratio<0.5 and camera_model == \"Apple: iPhone 14 Pro Max\":\n",
    "        long_edge_crop_ratio = max(h,w)/max(orig_resolution_index[camera_model][1])\n",
    "        \n",
    "    # calc real eq focal len\n",
    "    uncropped_fl = exif_info[\"focal_length_in_35mm_film\"]\n",
    "    # ff camera use true fl\n",
    "    if camera_model in [\"LEICA CAMERA AG: LEICA Q2\",\"SONY: ILCE-1\"]:\n",
    "        uncropped_fl = exif_info[\"focal_length\"]\n",
    "    \n",
    "    real_fl = uncropped_fl/long_edge_crop_ratio\n",
    "\n",
    "    # sony apsc lens\n",
    "\n",
    "    return {\"camera\": camera_model,\n",
    "            \"lens\":exif_info['lens_model'],\n",
    "            \"orig_fl\":uncropped_fl,\n",
    "            \"real_fl\":real_fl,\n",
    "            \"long_edge_crop_ratio\":long_edge_crop_ratio\n",
    "           }\n",
    "\n",
    "    \n",
    "    "
   ]
  },
  {
   "cell_type": "code",
   "execution_count": 91,
   "id": "4c9bcd6d-beb3-403d-8d06-0cd4e4dc58b1",
   "metadata": {},
   "outputs": [
    {
     "name": "stderr",
     "output_type": "stream",
     "text": [
      "100%|█████████████████████████████████████████| 717/717 [02:27<00:00,  4.86it/s]\n"
     ]
    }
   ],
   "source": [
    "# TODO\n",
    "# Enhanced\n",
    "from glob import glob \n",
    "from os.path import join\n",
    "from pprint import pprint\n",
    "import cv2\n",
    "from tqdm import tqdm\n",
    "\n",
    "folder_path = '/Users/htplex/Pictures/Lightroom Saved Photos/2022-3s-preview/'\n",
    "useful_exif_keys = [\"datetime_original\",\"exposure_bias_value\",\"exposure_mode\",\"exposure_program\",\n",
    "                    \"exposure_time\",\"f_number\",\"focal_length\",\"focal_length_in_35mm_film\",\n",
    "                    \"lens_model\",\"lens_specification\",\"make\",\"model\",\n",
    "                    \"photographic_sensitivity\",\"recommended_exposure_index\",\n",
    "                   ]\n",
    "\n",
    "img_paths = sorted(glob(join(folder_path,\"*.jpg\")))\n",
    "all_better_exif = []\n",
    "for img_path in tqdm(img_paths):\n",
    "    # print(img_path)\n",
    "    img = cv2.imread(img_path)\n",
    "    h,w = img.shape[:2]\n",
    "    exif_info = get_exif(img_path,useful_exif_keys)\n",
    "    # pprint(exif_info)\n",
    "    \n",
    "    # init better exif\n",
    "    # step1: real_eq\n",
    "    better_exif = get_real_eqvl_focal_len(h,w,exif_info)\n",
    "    all_better_exif.append(better_exif)\n",
    "\n",
    "    # break\n",
    "        \n",
    "        "
   ]
  },
  {
   "cell_type": "code",
   "execution_count": null,
   "id": "8bd2802b-2abc-447f-9888-c81fe50edcb3",
   "metadata": {},
   "outputs": [],
   "source": []
  },
  {
   "cell_type": "code",
   "execution_count": null,
   "id": "ccbfc9c9-97b5-45b9-9b63-b8cc24315d21",
   "metadata": {},
   "outputs": [],
   "source": []
  }
 ],
 "metadata": {
  "kernelspec": {
   "display_name": "Python 3 (ipykernel)",
   "language": "python",
   "name": "python3"
  },
  "language_info": {
   "codemirror_mode": {
    "name": "ipython",
    "version": 3
   },
   "file_extension": ".py",
   "mimetype": "text/x-python",
   "name": "python",
   "nbconvert_exporter": "python",
   "pygments_lexer": "ipython3",
   "version": "3.9.7"
  }
 },
 "nbformat": 4,
 "nbformat_minor": 5
}
